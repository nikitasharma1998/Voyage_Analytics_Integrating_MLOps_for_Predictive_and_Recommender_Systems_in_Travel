{
  "nbformat": 4,
  "nbformat_minor": 0,
  "metadata": {
    "colab": {
      "provenance": []
    },
    "kernelspec": {
      "name": "python3",
      "display_name": "Python 3"
    },
    "language_info": {
      "name": "python"
    }
  },
  "cells": [
    {
      "cell_type": "code",
      "execution_count": null,
      "metadata": {
        "colab": {
          "base_uri": "https://localhost:8080/"
        },
        "id": "_0EtbaD0K4Rz",
        "outputId": "92351b9f-647a-49a5-b390-063fa1118cc3"
      },
      "outputs": [
        {
          "output_type": "stream",
          "name": "stderr",
          "text": [
            "WARNING:absl:Compiled the loaded model, but the compiled metrics have yet to be built. `model.compile_metrics` will be empty until you train or evaluate the model.\n"
          ]
        },
        {
          "output_type": "stream",
          "name": "stdout",
          "text": [
            " * Serving Flask app '__main__'\n",
            " * Debug mode: on\n"
          ]
        },
        {
          "output_type": "stream",
          "name": "stderr",
          "text": [
            "INFO:werkzeug:\u001b[31m\u001b[1mWARNING: This is a development server. Do not use it in a production deployment. Use a production WSGI server instead.\u001b[0m\n",
            " * Running on http://127.0.0.1:5000\n",
            "INFO:werkzeug:\u001b[33mPress CTRL+C to quit\u001b[0m\n",
            "INFO:werkzeug: * Restarting with stat\n"
          ]
        }
      ],
      "source": [
        "#Flask Application Code\n",
        "from flask import Flask, request, jsonify\n",
        "from tensorflow.keras.models import load_model\n",
        "import numpy as np\n",
        "import pandas as pd\n",
        "from sklearn.preprocessing import StandardScaler\n",
        "\n",
        "app = Flask(__name__)\n",
        "\n",
        "# Load the trained model\n",
        "model = load_model('csat_model.h5')\n",
        "\n",
        "# Assuming the same scaler was used during training\n",
        "scaler = StandardScaler()\n",
        "\n",
        "# Define a route for the homepage\n",
        "@app.route('/')\n",
        "def home():\n",
        "    return \"Welcome to the CSAT Prediction API!\"\n",
        "\n",
        "# Define a route for prediction\n",
        "@app.route('/predict', methods=['POST'])\n",
        "def predict():\n",
        "    data = request.json  # Get JSON data from POST request\n",
        "\n",
        "    # Convert JSON data to DataFrame\n",
        "    input_data = pd.DataFrame([data])\n",
        "\n",
        "    # Example preprocessing (similar to training process)\n",
        "    # Ensure your data includes all necessary features\n",
        "    categorical_features = ['Channel name', 'Category', 'Sub-category', 'Customer city', 'Product category', 'Agent name', 'Supervisor', 'Manager', 'Tenure Bucket', 'Agent Shift']\n",
        "    numerical_features = ['Item price', 'Connected handling time', 'Response Time', 'Time to Survey']\n",
        "\n",
        "    # Dummy processing; replace with actual preprocessing steps\n",
        "    input_data[categorical_features] = input_data[categorical_features].apply(LabelEncoder().fit_transform)\n",
        "\n",
        "    # Scale the numerical features\n",
        "    input_data[numerical_features] = scaler.transform(input_data[numerical_features])\n",
        "\n",
        "    # Ensure the input_data is in the same format as the model's input\n",
        "    prediction = model.predict(input_data)\n",
        "\n",
        "    # Return the prediction as JSON\n",
        "    return jsonify({'predicted_CSAT_score': prediction[0][0]})\n",
        "\n",
        "if __name__ == '__main__':\n",
        "    app.run(debug=True)\n"
      ]
    },
    {
      "cell_type": "code",
      "source": [],
      "metadata": {
        "id": "48ztphkBLHRP"
      },
      "execution_count": null,
      "outputs": []
    }
  ]
}